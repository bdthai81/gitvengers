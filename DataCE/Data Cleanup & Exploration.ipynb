{
 "cells": [
  {
   "cell_type": "code",
   "execution_count": null,
   "metadata": {},
   "outputs": [],
   "source": [
    "# Dependencies and Setup\n",
    "import pandas as pd\n",
    "import numpy as np\n",
    "import io\n",
    "import requests\n",
    "\n",
    "# Declare World's ISO Alpha-3 Code value to WRD\n",
    "world_iso3 = 'WRD'\n"
   ]
  },
  {
   "cell_type": "markdown",
   "metadata": {},
   "source": [
    "### Countries to observe"
   ]
  },
  {
   "cell_type": "code",
   "execution_count": null,
   "metadata": {},
   "outputs": [],
   "source": [
    "# Load Countries to observe into DataFrame\n",
    "country_csv_path = \"Resources/Country/Country.csv\"\n",
    "country_df = pd.read_csv(country_csv_path)\n",
    "# Set World's ISO Alpha-3 Code value to WRD\n",
    "country_df = country_df.set_index('Country Name')\n",
    "country_df.loc['World', 'ISO alpha-3 Code'] = world_iso3\n",
    "country_df = country_df.reset_index()\n",
    "country_df.head()"
   ]
  },
  {
   "cell_type": "markdown",
   "metadata": {},
   "source": [
    "### Nation Footprint Data"
   ]
  },
  {
   "cell_type": "code",
   "execution_count": null,
   "metadata": {},
   "outputs": [],
   "source": [
    "# Load National Footprint Data\n",
    "nf_csv_path = \"Resources/NFA/NFA 2018.csv\"\n",
    "nf_df = pd.read_csv(nf_csv_path)\n",
    "\n",
    "# Set World's ISO Alpha-3 Code value to WRD\n",
    "nf_df = nf_df.set_index('country')\n",
    "nf_df.loc['World', 'ISO alpha-3 code'] = world_iso3\n",
    "nf_df = nf_df.reset_index()\n",
    "\n",
    "# Filters: \n",
    "# records keeping: BiocapTotGHA \n",
    "# records filter out: BiocapPerCap, EFConsPerCap/TotGHA, EFExportsPerCap/TotGHA, EFImportsPerCap/TotGHA, EFProdPerCap/TotGHA\n",
    "nf_df = nf_df[nf_df['record'] == 'BiocapTotGHA']\n",
    "nf_df.head()"
   ]
  },
  {
   "cell_type": "code",
   "execution_count": null,
   "metadata": {},
   "outputs": [],
   "source": [
    "# Merge National Footprint Data with Countries to observe\n",
    "merged_nf_df = pd.merge(country_df, nf_df, how='left', left_on='ISO alpha-3 Code', right_on='ISO alpha-3 code')\n",
    "merged_nf_df.head()"
   ]
  },
  {
   "cell_type": "markdown",
   "metadata": {},
   "source": [
    "### Food and Agriculture Organization of the UN Data"
   ]
  },
  {
   "cell_type": "code",
   "execution_count": null,
   "metadata": {},
   "outputs": [],
   "source": [
    "# Set FAO stardand url parametrs\n",
    "fao_area = 'area=' + '%2C'.join(country_df['GFN Country Code'].apply(str))\n",
    "fao_year = '&year=' + '%2C'.join(np.arange(1995,2019).astype(str))\n",
    "fao_area_cs = '&area_cs=FAO'\n",
    "fao_item_cs = '&item_cs=FAO'\n",
    "fao_tail = '&show_codes=true&show_unit=true&show_flags=true&null_values=false&output_type=csv'"
   ]
  },
  {
   "cell_type": "markdown",
   "metadata": {},
   "source": [
    "### Production: Livestock Primary"
   ]
  },
  {
   "cell_type": "code",
   "execution_count": null,
   "metadata": {},
   "outputs": [],
   "source": [
    "# Production: Livestock Primary\n",
    "# Set url parametrs\n",
    "fao_base_url = 'http://fenixservices.fao.org/faostat/api/v1/en/data/QL?'\n",
    "element_str = '2313%2C2510'\n",
    "fao_element = '&element=' + element_str\n",
    "item_str = '1765'\n",
    "fao_item = '&item=' + item_str\n",
    "# finalize fao url\n",
    "pr_fao_url = fao_base_url + fao_area + fao_area_cs + fao_element + fao_item  + fao_item_cs + fao_year + fao_tail\n",
    "\n",
    "# Request Get Production: Livestock Primary Data from FOA\n",
    "response = requests.get(pr_fao_url)\n",
    "decoded_content = response.content.decode('ISO-8859-1')\n",
    "# Store CSV to DataFrame\n",
    "fao_pr_df = pd.read_csv(io.BytesIO(response.content), encoding='ISO-8859-1')\n",
    "fao_pr_df.head()\n"
   ]
  },
  {
   "cell_type": "markdown",
   "metadata": {},
   "source": [
    "### Trade : Livestock Products"
   ]
  },
  {
   "cell_type": "code",
   "execution_count": null,
   "metadata": {},
   "outputs": [],
   "source": [
    "# Trade: Livestock Products (Import/Export)\n",
    "# Set url parametrs\n",
    "fao_base_url = 'http://fenixservices.fao.org/faostat/api/v1/en/data/TP?'\n",
    "element_str = '2910%2C2610'\n",
    "fao_element = '&element=' + element_str\n",
    "item_str = '2077'\n",
    "fao_item = '&item=' + item_str\n",
    "# finalize fao url\n",
    "tr_fao_url = fao_base_url + fao_area + fao_area_cs + fao_element + fao_item  + fao_item_cs + fao_year + fao_tail\n",
    "\n",
    "# Request Trade: Livestock Products Data from FOA\n",
    "response = requests.get(tr_fao_url)\n",
    "decoded_content = response.content.decode('ISO-8859-1')\n",
    "# Store CSV to DataFrame\n",
    "fao_tr_df = pd.read_csv(io.BytesIO(response.content), encoding='ISO-8859-1')\n",
    "fao_tr_df.head()"
   ]
  },
  {
   "cell_type": "markdown",
   "metadata": {},
   "source": [
    "### Food Balance: Commodity Balances Livestocks"
   ]
  },
  {
   "cell_type": "code",
   "execution_count": null,
   "metadata": {},
   "outputs": [],
   "source": [
    "# Food Balance: Commodity Balances Livestocks (Domestic Supply Qty)\n",
    "# Set url parametrs\n",
    "fao_base_url = 'http://fenixservices.fao.org/faostat/api/v1/en/data/BL?'\n",
    "element_str = '2300'\n",
    "fao_element = '&element=' + element_str\n",
    "item_str = '2943'\n",
    "fao_item = '&item=' + item_str\n",
    "# finalize fao url\n",
    "cb_fao_url = fao_base_url + fao_area + fao_area_cs + fao_element + fao_item  + fao_item_cs + fao_year + fao_tail\n",
    "\n",
    "# Request Get Food Balance: Commodity Balances Livestocks Data from FOA\n",
    "response = requests.get(cb_fao_url)\n",
    "decoded_content = response.content.decode('ISO-8859-1')\n",
    "# Store CSV to DataFrame\n",
    "fao_cb_df = pd.read_csv(io.BytesIO(response.content), encoding='ISO-8859-1')\n",
    "fao_cb_df.head()\n"
   ]
  },
  {
   "cell_type": "markdown",
   "metadata": {},
   "source": [
    "### Investment: Government Expenditure"
   ]
  },
  {
   "cell_type": "code",
   "execution_count": null,
   "metadata": {},
   "outputs": [],
   "source": [
    "# Investment: Government Expenditure (Subsidies)\n",
    "# Set url parametrs\n",
    "fao_base_url = 'http://fenixservices.fao.org/faostat/api/v1/en/data/IG?'\n",
    "element_str = '6110'\n",
    "fao_element = '&element=' + element_str\n",
    "item_str = '23164%2C23134'\n",
    "fao_item = '&item=' + item_str\n",
    "# finalize fao url\n",
    "fb_fao_url = fao_base_url + fao_area + fao_area_cs + fao_element + fao_item  + fao_item_cs + fao_year + fao_tail\n",
    "\n",
    "# Request Get Investment: Government Expenditure Data from FOA\n",
    "response = requests.get(fb_fao_url)\n",
    "decoded_content = response.content.decode('ISO-8859-1')\n",
    "# Store CSV to DataFrame\n",
    "fao_fb_df = pd.read_csv(io.BytesIO(response.content), encoding='ISO-8859-1')\n",
    "fao_fb_df.head()\n"
   ]
  },
  {
   "cell_type": "markdown",
   "metadata": {},
   "source": [
    "### OECD: Meat Consumption"
   ]
  },
  {
   "cell_type": "code",
   "execution_count": null,
   "metadata": {},
   "outputs": [],
   "source": [
    "# Load FAO Meat Consumption Data (downloaded from OECD)\n",
    "fao_mc_csv_path = \"Resources/FAO/daily-protein-supply-from-animal-and-plant-based-foods.csv\"\n",
    "fao_mc_df = pd.read_csv(fao_mc_csv_path)\n",
    "\n",
    "merged_fao_mc_df = pd.merge(country_df, fao_mc_df, how='left', left_on='ISO alpha-3 Code', right_on='Code')\n",
    "merged_fao_mc_df.head()"
   ]
  },
  {
   "cell_type": "code",
   "execution_count": null,
   "metadata": {},
   "outputs": [],
   "source": []
  }
 ],
 "metadata": {
  "kernelspec": {
   "display_name": "Python 3",
   "language": "python",
   "name": "python3"
  },
  "language_info": {
   "codemirror_mode": {
    "name": "ipython",
    "version": 3
   },
   "file_extension": ".py",
   "mimetype": "text/x-python",
   "name": "python",
   "nbconvert_exporter": "python",
   "pygments_lexer": "ipython3",
   "version": "3.6.7"
  }
 },
 "nbformat": 4,
 "nbformat_minor": 2
}
