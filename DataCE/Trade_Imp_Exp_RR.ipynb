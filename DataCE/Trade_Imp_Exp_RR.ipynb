{
 "cells": [
  {
   "cell_type": "markdown",
   "metadata": {},
   "source": [
    "## Dependencies and Setup"
   ]
  },
  {
   "cell_type": "code",
   "execution_count": 1,
   "metadata": {},
   "outputs": [],
   "source": [
    "import pandas as pd\n",
    "import numpy as np\n",
    "import io\n",
    "import requests\n",
    "import matplotlib.patches as mpatches\n",
    "import matplotlib.pyplot as plt\n",
    "\n",
    "# Declare World's ISO Alpha-3 Code value to WRD\n",
    "world_iso3 = 'WRD'\n",
    "pd.set_option('display.max_rows', 1000)"
   ]
  },
  {
   "cell_type": "markdown",
   "metadata": {},
   "source": [
    "## Load Countries to Observe into DataFrame"
   ]
  },
  {
   "cell_type": "code",
   "execution_count": 2,
   "metadata": {},
   "outputs": [],
   "source": [
    "country_csv_path = \"Resources/Country/Country.csv\"\n",
    "country_df = pd.read_csv(country_csv_path)\n",
    "# Set World's ISO Alpha-3 Code value to WRD\n",
    "country_df = country_df.set_index('Country Name')\n",
    "country_df.loc['World', 'ISO alpha-3 Code'] = world_iso3\n",
    "country_df = country_df.reset_index()"
   ]
  },
  {
   "cell_type": "markdown",
   "metadata": {},
   "source": [
    "## Set FAO stardand url parametrs"
   ]
  },
  {
   "cell_type": "code",
   "execution_count": 3,
   "metadata": {},
   "outputs": [],
   "source": [
    "fao_area = 'area=' + '%2C'.join(country_df['GFN Country Code'].apply(str))\n",
    "fao_year = '&year=' + '%2C'.join(np.arange(1995,2019).astype(str))\n",
    "fao_area_cs = '&area_cs=FAO'\n",
    "fao_item_cs = '&item_cs=FAO'\n",
    "fao_tail = '&show_codes=true&show_unit=true&show_flags=true&null_values=false&output_type=csv'"
   ]
  },
  {
   "cell_type": "markdown",
   "metadata": {},
   "source": [
    "## Trade : Livestock Products (Import)"
   ]
  },
  {
   "cell_type": "code",
   "execution_count": 4,
   "metadata": {},
   "outputs": [
    {
     "data": {
      "text/html": [
       "<div>\n",
       "<style scoped>\n",
       "    .dataframe tbody tr th:only-of-type {\n",
       "        vertical-align: middle;\n",
       "    }\n",
       "\n",
       "    .dataframe tbody tr th {\n",
       "        vertical-align: top;\n",
       "    }\n",
       "\n",
       "    .dataframe thead th {\n",
       "        text-align: right;\n",
       "    }\n",
       "</style>\n",
       "<table border=\"1\" class=\"dataframe\">\n",
       "  <thead>\n",
       "    <tr style=\"text-align: right;\">\n",
       "      <th></th>\n",
       "      <th>Domain Code</th>\n",
       "      <th>Domain</th>\n",
       "      <th>Area Code</th>\n",
       "      <th>Area</th>\n",
       "      <th>Element Code</th>\n",
       "      <th>Element</th>\n",
       "      <th>Item Code</th>\n",
       "      <th>Item</th>\n",
       "      <th>Year Code</th>\n",
       "      <th>Year</th>\n",
       "      <th>Unit</th>\n",
       "      <th>Value</th>\n",
       "      <th>Flag</th>\n",
       "      <th>Flag Description</th>\n",
       "    </tr>\n",
       "  </thead>\n",
       "  <tbody>\n",
       "    <tr>\n",
       "      <th>0</th>\n",
       "      <td>TP</td>\n",
       "      <td>Crops and livestock products</td>\n",
       "      <td>231</td>\n",
       "      <td>United States of America</td>\n",
       "      <td>5610</td>\n",
       "      <td>Import Quantity</td>\n",
       "      <td>2077</td>\n",
       "      <td>Total Meat</td>\n",
       "      <td>1995</td>\n",
       "      <td>1995</td>\n",
       "      <td>tonnes</td>\n",
       "      <td>1110292</td>\n",
       "      <td>A</td>\n",
       "      <td>Aggregate, may include official, semi-official...</td>\n",
       "    </tr>\n",
       "    <tr>\n",
       "      <th>1</th>\n",
       "      <td>TP</td>\n",
       "      <td>Crops and livestock products</td>\n",
       "      <td>231</td>\n",
       "      <td>United States of America</td>\n",
       "      <td>5610</td>\n",
       "      <td>Import Quantity</td>\n",
       "      <td>2077</td>\n",
       "      <td>Total Meat</td>\n",
       "      <td>1996</td>\n",
       "      <td>1996</td>\n",
       "      <td>tonnes</td>\n",
       "      <td>1199617</td>\n",
       "      <td>A</td>\n",
       "      <td>Aggregate, may include official, semi-official...</td>\n",
       "    </tr>\n",
       "    <tr>\n",
       "      <th>2</th>\n",
       "      <td>TP</td>\n",
       "      <td>Crops and livestock products</td>\n",
       "      <td>231</td>\n",
       "      <td>United States of America</td>\n",
       "      <td>5610</td>\n",
       "      <td>Import Quantity</td>\n",
       "      <td>2077</td>\n",
       "      <td>Total Meat</td>\n",
       "      <td>1997</td>\n",
       "      <td>1997</td>\n",
       "      <td>tonnes</td>\n",
       "      <td>1335282</td>\n",
       "      <td>A</td>\n",
       "      <td>Aggregate, may include official, semi-official...</td>\n",
       "    </tr>\n",
       "    <tr>\n",
       "      <th>3</th>\n",
       "      <td>TP</td>\n",
       "      <td>Crops and livestock products</td>\n",
       "      <td>231</td>\n",
       "      <td>United States of America</td>\n",
       "      <td>5610</td>\n",
       "      <td>Import Quantity</td>\n",
       "      <td>2077</td>\n",
       "      <td>Total Meat</td>\n",
       "      <td>1998</td>\n",
       "      <td>1998</td>\n",
       "      <td>tonnes</td>\n",
       "      <td>1509419</td>\n",
       "      <td>A</td>\n",
       "      <td>Aggregate, may include official, semi-official...</td>\n",
       "    </tr>\n",
       "    <tr>\n",
       "      <th>4</th>\n",
       "      <td>TP</td>\n",
       "      <td>Crops and livestock products</td>\n",
       "      <td>231</td>\n",
       "      <td>United States of America</td>\n",
       "      <td>5610</td>\n",
       "      <td>Import Quantity</td>\n",
       "      <td>2077</td>\n",
       "      <td>Total Meat</td>\n",
       "      <td>1999</td>\n",
       "      <td>1999</td>\n",
       "      <td>tonnes</td>\n",
       "      <td>1671894</td>\n",
       "      <td>A</td>\n",
       "      <td>Aggregate, may include official, semi-official...</td>\n",
       "    </tr>\n",
       "  </tbody>\n",
       "</table>\n",
       "</div>"
      ],
      "text/plain": [
       "  Domain Code                        Domain  Area Code  \\\n",
       "0          TP  Crops and livestock products        231   \n",
       "1          TP  Crops and livestock products        231   \n",
       "2          TP  Crops and livestock products        231   \n",
       "3          TP  Crops and livestock products        231   \n",
       "4          TP  Crops and livestock products        231   \n",
       "\n",
       "                       Area  Element Code          Element  Item Code  \\\n",
       "0  United States of America          5610  Import Quantity       2077   \n",
       "1  United States of America          5610  Import Quantity       2077   \n",
       "2  United States of America          5610  Import Quantity       2077   \n",
       "3  United States of America          5610  Import Quantity       2077   \n",
       "4  United States of America          5610  Import Quantity       2077   \n",
       "\n",
       "         Item  Year Code  Year    Unit    Value Flag  \\\n",
       "0  Total Meat       1995  1995  tonnes  1110292    A   \n",
       "1  Total Meat       1996  1996  tonnes  1199617    A   \n",
       "2  Total Meat       1997  1997  tonnes  1335282    A   \n",
       "3  Total Meat       1998  1998  tonnes  1509419    A   \n",
       "4  Total Meat       1999  1999  tonnes  1671894    A   \n",
       "\n",
       "                                    Flag Description  \n",
       "0  Aggregate, may include official, semi-official...  \n",
       "1  Aggregate, may include official, semi-official...  \n",
       "2  Aggregate, may include official, semi-official...  \n",
       "3  Aggregate, may include official, semi-official...  \n",
       "4  Aggregate, may include official, semi-official...  "
      ]
     },
     "execution_count": 4,
     "metadata": {},
     "output_type": "execute_result"
    }
   ],
   "source": [
    "# Trade: Livestock Products (Import/Export)\n",
    "# Set url parametrs\n",
    "fao_base_url = 'http://fenixservices.fao.org/faostat/api/v1/en/data/TP?'\n",
    "area_str = '231'\n",
    "fao_area = '&area=' + area_str\n",
    "element_str = '2610'\n",
    "fao_element = '&element=' + element_str\n",
    "item_str = '2077'\n",
    "fao_item = '&item=' + item_str\n",
    "\n",
    "# finalize fao url\n",
    "tr_fao_url = fao_base_url + fao_area + fao_area_cs + fao_element + fao_item + fao_item_cs + fao_year + fao_tail\n",
    "fao_value = '&value='\n",
    "\n",
    "# Request Trade: Livestock Products Data from FOA\n",
    "response = requests.get(tr_fao_url)\n",
    "decoded_content = response.content.decode('ISO-8859-1')\n",
    "# Store CSV to DataFrame\n",
    "pd.set_option('display.max_rows', 100)\n",
    "fao_tr_import_df = pd.read_csv(io.BytesIO(response.content), encoding='ISO-8859-1')\n",
    "fao_tr_import_df.head()"
   ]
  },
  {
   "cell_type": "markdown",
   "metadata": {},
   "source": [
    "### Trade : Livestock Products (IMPORT)"
   ]
  },
  {
   "cell_type": "code",
   "execution_count": 5,
   "metadata": {
    "scrolled": false
   },
   "outputs": [
    {
     "data": {
      "text/html": [
       "<div>\n",
       "<style scoped>\n",
       "    .dataframe tbody tr th:only-of-type {\n",
       "        vertical-align: middle;\n",
       "    }\n",
       "\n",
       "    .dataframe tbody tr th {\n",
       "        vertical-align: top;\n",
       "    }\n",
       "\n",
       "    .dataframe thead th {\n",
       "        text-align: right;\n",
       "    }\n",
       "</style>\n",
       "<table border=\"1\" class=\"dataframe\">\n",
       "  <thead>\n",
       "    <tr style=\"text-align: right;\">\n",
       "      <th></th>\n",
       "      <th>Domain Code</th>\n",
       "      <th>Domain</th>\n",
       "      <th>Area Code</th>\n",
       "      <th>Area</th>\n",
       "      <th>Element Code</th>\n",
       "      <th>Element</th>\n",
       "      <th>Item Code</th>\n",
       "      <th>Item</th>\n",
       "      <th>Year Code</th>\n",
       "      <th>Year</th>\n",
       "      <th>Unit</th>\n",
       "      <th>Value</th>\n",
       "      <th>Flag</th>\n",
       "      <th>Flag Description</th>\n",
       "    </tr>\n",
       "  </thead>\n",
       "  <tbody>\n",
       "    <tr>\n",
       "      <th>0</th>\n",
       "      <td>TP</td>\n",
       "      <td>Crops and livestock products</td>\n",
       "      <td>21</td>\n",
       "      <td>Brazil</td>\n",
       "      <td>5610</td>\n",
       "      <td>Import Quantity</td>\n",
       "      <td>2077</td>\n",
       "      <td>Total Meat</td>\n",
       "      <td>1995</td>\n",
       "      <td>1995</td>\n",
       "      <td>tonnes</td>\n",
       "      <td>142763</td>\n",
       "      <td>A</td>\n",
       "      <td>Aggregate, may include official, semi-official...</td>\n",
       "    </tr>\n",
       "    <tr>\n",
       "      <th>1</th>\n",
       "      <td>TP</td>\n",
       "      <td>Crops and livestock products</td>\n",
       "      <td>21</td>\n",
       "      <td>Brazil</td>\n",
       "      <td>5610</td>\n",
       "      <td>Import Quantity</td>\n",
       "      <td>2077</td>\n",
       "      <td>Total Meat</td>\n",
       "      <td>1996</td>\n",
       "      <td>1996</td>\n",
       "      <td>tonnes</td>\n",
       "      <td>153815</td>\n",
       "      <td>A</td>\n",
       "      <td>Aggregate, may include official, semi-official...</td>\n",
       "    </tr>\n",
       "    <tr>\n",
       "      <th>2</th>\n",
       "      <td>TP</td>\n",
       "      <td>Crops and livestock products</td>\n",
       "      <td>21</td>\n",
       "      <td>Brazil</td>\n",
       "      <td>5610</td>\n",
       "      <td>Import Quantity</td>\n",
       "      <td>2077</td>\n",
       "      <td>Total Meat</td>\n",
       "      <td>1997</td>\n",
       "      <td>1997</td>\n",
       "      <td>tonnes</td>\n",
       "      <td>127960</td>\n",
       "      <td>A</td>\n",
       "      <td>Aggregate, may include official, semi-official...</td>\n",
       "    </tr>\n",
       "    <tr>\n",
       "      <th>3</th>\n",
       "      <td>TP</td>\n",
       "      <td>Crops and livestock products</td>\n",
       "      <td>21</td>\n",
       "      <td>Brazil</td>\n",
       "      <td>5610</td>\n",
       "      <td>Import Quantity</td>\n",
       "      <td>2077</td>\n",
       "      <td>Total Meat</td>\n",
       "      <td>1998</td>\n",
       "      <td>1998</td>\n",
       "      <td>tonnes</td>\n",
       "      <td>91402</td>\n",
       "      <td>A</td>\n",
       "      <td>Aggregate, may include official, semi-official...</td>\n",
       "    </tr>\n",
       "    <tr>\n",
       "      <th>4</th>\n",
       "      <td>TP</td>\n",
       "      <td>Crops and livestock products</td>\n",
       "      <td>21</td>\n",
       "      <td>Brazil</td>\n",
       "      <td>5610</td>\n",
       "      <td>Import Quantity</td>\n",
       "      <td>2077</td>\n",
       "      <td>Total Meat</td>\n",
       "      <td>1999</td>\n",
       "      <td>1999</td>\n",
       "      <td>tonnes</td>\n",
       "      <td>49304</td>\n",
       "      <td>A</td>\n",
       "      <td>Aggregate, may include official, semi-official...</td>\n",
       "    </tr>\n",
       "  </tbody>\n",
       "</table>\n",
       "</div>"
      ],
      "text/plain": [
       "  Domain Code                        Domain  Area Code    Area  Element Code  \\\n",
       "0          TP  Crops and livestock products         21  Brazil          5610   \n",
       "1          TP  Crops and livestock products         21  Brazil          5610   \n",
       "2          TP  Crops and livestock products         21  Brazil          5610   \n",
       "3          TP  Crops and livestock products         21  Brazil          5610   \n",
       "4          TP  Crops and livestock products         21  Brazil          5610   \n",
       "\n",
       "           Element  Item Code        Item  Year Code  Year    Unit   Value  \\\n",
       "0  Import Quantity       2077  Total Meat       1995  1995  tonnes  142763   \n",
       "1  Import Quantity       2077  Total Meat       1996  1996  tonnes  153815   \n",
       "2  Import Quantity       2077  Total Meat       1997  1997  tonnes  127960   \n",
       "3  Import Quantity       2077  Total Meat       1998  1998  tonnes   91402   \n",
       "4  Import Quantity       2077  Total Meat       1999  1999  tonnes   49304   \n",
       "\n",
       "  Flag                                   Flag Description  \n",
       "0    A  Aggregate, may include official, semi-official...  \n",
       "1    A  Aggregate, may include official, semi-official...  \n",
       "2    A  Aggregate, may include official, semi-official...  \n",
       "3    A  Aggregate, may include official, semi-official...  \n",
       "4    A  Aggregate, may include official, semi-official...  "
      ]
     },
     "execution_count": 5,
     "metadata": {},
     "output_type": "execute_result"
    }
   ],
   "source": [
    "# Trade: Livestock Products (Import/Export)\n",
    "# Set url parametrs\n",
    "fao_base_url = 'http://fenixservices.fao.org/faostat/api/v1/en/data/TP?'\n",
    "area_str = '21%2C351%2C100%2C185%2C202%2C231%2C5000%2C5706%2C5815'\n",
    "\n",
    "fao_area = '&area=' + area_str\n",
    "element_str = '2610'\n",
    "fao_element = '&element=' + element_str\n",
    "item_str = '2077'\n",
    "fao_item = '&item=' + item_str\n",
    "\n",
    "\n",
    "# finalize fao url\n",
    "tr_fao_url = fao_base_url + fao_area + fao_area_cs + fao_element + fao_item  + fao_item_cs + fao_year + fao_tail\n",
    "\n",
    "# Request Trade: Livestock Products Data from FOA\n",
    "response = requests.get(tr_fao_url)\n",
    "decoded_content = response.content.decode('ISO-8859-1')\n",
    "# Store CSV to DataFrame\n",
    "fao_tr_import_df = pd.read_csv(io.BytesIO(response.content), encoding='ISO-8859-1')\n",
    "fao_tr_import_df.head()"
   ]
  },
  {
   "cell_type": "code",
   "execution_count": 6,
   "metadata": {},
   "outputs": [],
   "source": [
    "fao_tr_import_df[['Area', 'Value']]\n",
    "area_group_df = fao_tr_import_df.groupby(['Area'])\n",
    "BRICS_Sum = area_group_df.sum()['Value']\n",
    "Remaining_List_Sum = area_group_df.sum()['Value']"
   ]
  },
  {
   "cell_type": "code",
   "execution_count": 7,
   "metadata": {},
   "outputs": [],
   "source": [
    "BRICS_List = ['Brazil', 'China', 'India', 'Russian Federation', 'South Africa' ]\n",
    "\n",
    "#BRICS_value.df = BRICS_List."
   ]
  },
  {
   "cell_type": "code",
   "execution_count": 8,
   "metadata": {},
   "outputs": [],
   "source": [
    "#BRICS_Sum[BRICS_List]\n",
    "BRICS_Sum = BRICS_Sum[BRICS_List]\n",
    "BRICS_Sum = pd.Series([BRICS_Sum.sum()], index=['BRICS'])"
   ]
  },
  {
   "cell_type": "code",
   "execution_count": 9,
   "metadata": {},
   "outputs": [
    {
     "name": "stdout",
     "output_type": "stream",
     "text": [
      "Area\n",
      "European Union                       262039323\n",
      "Low Income Food Deficit Countries     15533390\n",
      "United States of America              39001075\n",
      "Name: Value, dtype: int64\n"
     ]
    }
   ],
   "source": [
    "Remaining_List = ['European Union', 'Low Income Food Deficit Countries', 'United States of America']\n",
    "World = Remaining_List_Sum['World']\n",
    "Remaining_List_Sum = Remaining_List_Sum[(Remaining_List)]\n",
    "print (Remaining_List_Sum)"
   ]
  },
  {
   "cell_type": "code",
   "execution_count": 10,
   "metadata": {},
   "outputs": [
    {
     "data": {
      "text/plain": [
       "European Union                       262039323\n",
       "Low Income Food Deficit Countries     15533390\n",
       "United States of America              39001075\n",
       "BRICS                                116065591\n",
       "dtype: int64"
      ]
     },
     "execution_count": 10,
     "metadata": {},
     "output_type": "execute_result"
    }
   ],
   "source": [
    "#print (Remaining_List_Sum, BRICS_Sum)\n",
    "pd.concat([Remaining_List_Sum, BRICS_Sum])"
   ]
  },
  {
   "cell_type": "code",
   "execution_count": 11,
   "metadata": {},
   "outputs": [],
   "source": [
    "Output_df = pd.DataFrame(pd.concat([Remaining_List_Sum, BRICS_Sum]))"
   ]
  },
  {
   "cell_type": "code",
   "execution_count": 12,
   "metadata": {},
   "outputs": [],
   "source": [
    "Output_df.columns = ['Quantity']"
   ]
  },
  {
   "cell_type": "code",
   "execution_count": 13,
   "metadata": {},
   "outputs": [
    {
     "data": {
      "text/html": [
       "<div>\n",
       "<style scoped>\n",
       "    .dataframe tbody tr th:only-of-type {\n",
       "        vertical-align: middle;\n",
       "    }\n",
       "\n",
       "    .dataframe tbody tr th {\n",
       "        vertical-align: top;\n",
       "    }\n",
       "\n",
       "    .dataframe thead th {\n",
       "        text-align: right;\n",
       "    }\n",
       "</style>\n",
       "<table border=\"1\" class=\"dataframe\">\n",
       "  <thead>\n",
       "    <tr style=\"text-align: right;\">\n",
       "      <th></th>\n",
       "      <th>Quantity</th>\n",
       "    </tr>\n",
       "  </thead>\n",
       "  <tbody>\n",
       "    <tr>\n",
       "      <th>European Union</th>\n",
       "      <td>262039323</td>\n",
       "    </tr>\n",
       "    <tr>\n",
       "      <th>Low Income Food Deficit Countries</th>\n",
       "      <td>15533390</td>\n",
       "    </tr>\n",
       "    <tr>\n",
       "      <th>United States of America</th>\n",
       "      <td>39001075</td>\n",
       "    </tr>\n",
       "    <tr>\n",
       "      <th>BRICS</th>\n",
       "      <td>116065591</td>\n",
       "    </tr>\n",
       "  </tbody>\n",
       "</table>\n",
       "</div>"
      ],
      "text/plain": [
       "                                    Quantity\n",
       "European Union                     262039323\n",
       "Low Income Food Deficit Countries   15533390\n",
       "United States of America            39001075\n",
       "BRICS                              116065591"
      ]
     },
     "execution_count": 13,
     "metadata": {},
     "output_type": "execute_result"
    }
   ],
   "source": [
    "Output_df"
   ]
  },
  {
   "cell_type": "code",
   "execution_count": 14,
   "metadata": {},
   "outputs": [],
   "source": [
    "Output_df[\"%\"] = Output_df ['Quantity']/World\n"
   ]
  },
  {
   "cell_type": "code",
   "execution_count": 15,
   "metadata": {},
   "outputs": [],
   "source": [
    "Output_df = Output_df.reset_index()"
   ]
  },
  {
   "cell_type": "code",
   "execution_count": 16,
   "metadata": {},
   "outputs": [],
   "source": [
    "x_axis = Output_df[\"index\"]\n",
    "y_axis = Output_df[\"Quantity\"]/1000\n",
    "World = World / 1000\n",
    "import_results = y_axis"
   ]
  },
  {
   "cell_type": "code",
   "execution_count": 59,
   "metadata": {},
   "outputs": [
    {
     "data": {
      "image/png": "[encoded data removed]",
      "text/plain": [
       "<Figure size 432x288 with 1 Axes>"
      ]
     },
     "metadata": {
      "needs_background": "light"
     },
     "output_type": "display_data"
    }
   ],
   "source": [
    "ax = plt.bar(x_axis,y_axis, color='darkgreen', alpha=0.5, align=\"center\")\n",
    "y_axis_world = [World,World,World,World]\n",
    "plt.bar(x_axis,(y_axis_world-y_axis), color='grey', alpha=0.5, align=\"center\", bottom=y_axis)\n",
    "plt.xticks(rotation='vertical')\n",
    "\n",
    "rects = ax.patches\n",
    "for rect in rects:\n",
    "    y_value = rect.get_height()\n",
    "    x_value = rect.get_x() + rect.get_width() / 2\n",
    "    percentY = str(int(y_value/World*100)) + '%'\n",
    "    plt.text(x_value-0.1, y_value, percentY, color='w')\n",
    "\n",
    "plt.xticks([0.175,1.175,2.175, 3.175],Output_df[\"index\"],rotation='vertical')\n",
    "plt.yticks([0, 100000,200000,300000,400000,500000,600000,700000],['0','100M', '200M', '300M', '400M', '500M', '600M', '700M'])\n",
    "plt.title(\"Meat Import Comparison\")\n",
    "green_patch = mpatches.Patch(color='darkgreen', label='Import')\n",
    "green_patch = mpatches.Patch(color='grey', label='World')\n",
    "plt.legend(handles=[red_patch,blue_patch,green_patch])\n",
    "plt.savefig('Import_Bar_Graph.png')"
   ]
  },
  {
   "cell_type": "markdown",
   "metadata": {},
   "source": [
    "### Trade : Livestock Products (EXPORT)"
   ]
  },
  {
   "cell_type": "code",
   "execution_count": 18,
   "metadata": {},
   "outputs": [
    {
     "data": {
      "text/html": [
       "<div>\n",
       "<style scoped>\n",
       "    .dataframe tbody tr th:only-of-type {\n",
       "        vertical-align: middle;\n",
       "    }\n",
       "\n",
       "    .dataframe tbody tr th {\n",
       "        vertical-align: top;\n",
       "    }\n",
       "\n",
       "    .dataframe thead th {\n",
       "        text-align: right;\n",
       "    }\n",
       "</style>\n",
       "<table border=\"1\" class=\"dataframe\">\n",
       "  <thead>\n",
       "    <tr style=\"text-align: right;\">\n",
       "      <th></th>\n",
       "      <th>Domain Code</th>\n",
       "      <th>Domain</th>\n",
       "      <th>Area Code</th>\n",
       "      <th>Area</th>\n",
       "      <th>Element Code</th>\n",
       "      <th>Element</th>\n",
       "      <th>Item Code</th>\n",
       "      <th>Item</th>\n",
       "      <th>Year Code</th>\n",
       "      <th>Year</th>\n",
       "      <th>Unit</th>\n",
       "      <th>Value</th>\n",
       "      <th>Flag</th>\n",
       "      <th>Flag Description</th>\n",
       "    </tr>\n",
       "  </thead>\n",
       "  <tbody>\n",
       "    <tr>\n",
       "      <th>0</th>\n",
       "      <td>TP</td>\n",
       "      <td>Crops and livestock products</td>\n",
       "      <td>21</td>\n",
       "      <td>Brazil</td>\n",
       "      <td>5910</td>\n",
       "      <td>Export Quantity</td>\n",
       "      <td>2077</td>\n",
       "      <td>Total Meat</td>\n",
       "      <td>1995</td>\n",
       "      <td>1995</td>\n",
       "      <td>tonnes</td>\n",
       "      <td>682506</td>\n",
       "      <td>A</td>\n",
       "      <td>Aggregate, may include official, semi-official...</td>\n",
       "    </tr>\n",
       "    <tr>\n",
       "      <th>1</th>\n",
       "      <td>TP</td>\n",
       "      <td>Crops and livestock products</td>\n",
       "      <td>21</td>\n",
       "      <td>Brazil</td>\n",
       "      <td>5910</td>\n",
       "      <td>Export Quantity</td>\n",
       "      <td>2077</td>\n",
       "      <td>Total Meat</td>\n",
       "      <td>1996</td>\n",
       "      <td>1996</td>\n",
       "      <td>tonnes</td>\n",
       "      <td>846177</td>\n",
       "      <td>A</td>\n",
       "      <td>Aggregate, may include official, semi-official...</td>\n",
       "    </tr>\n",
       "    <tr>\n",
       "      <th>2</th>\n",
       "      <td>TP</td>\n",
       "      <td>Crops and livestock products</td>\n",
       "      <td>21</td>\n",
       "      <td>Brazil</td>\n",
       "      <td>5910</td>\n",
       "      <td>Export Quantity</td>\n",
       "      <td>2077</td>\n",
       "      <td>Total Meat</td>\n",
       "      <td>1997</td>\n",
       "      <td>1997</td>\n",
       "      <td>tonnes</td>\n",
       "      <td>679643</td>\n",
       "      <td>A</td>\n",
       "      <td>Aggregate, may include official, semi-official...</td>\n",
       "    </tr>\n",
       "    <tr>\n",
       "      <th>3</th>\n",
       "      <td>TP</td>\n",
       "      <td>Crops and livestock products</td>\n",
       "      <td>21</td>\n",
       "      <td>Brazil</td>\n",
       "      <td>5910</td>\n",
       "      <td>Export Quantity</td>\n",
       "      <td>2077</td>\n",
       "      <td>Total Meat</td>\n",
       "      <td>1998</td>\n",
       "      <td>1998</td>\n",
       "      <td>tonnes</td>\n",
       "      <td>1003407</td>\n",
       "      <td>A</td>\n",
       "      <td>Aggregate, may include official, semi-official...</td>\n",
       "    </tr>\n",
       "    <tr>\n",
       "      <th>4</th>\n",
       "      <td>TP</td>\n",
       "      <td>Crops and livestock products</td>\n",
       "      <td>21</td>\n",
       "      <td>Brazil</td>\n",
       "      <td>5910</td>\n",
       "      <td>Export Quantity</td>\n",
       "      <td>2077</td>\n",
       "      <td>Total Meat</td>\n",
       "      <td>1999</td>\n",
       "      <td>1999</td>\n",
       "      <td>tonnes</td>\n",
       "      <td>1314947</td>\n",
       "      <td>A</td>\n",
       "      <td>Aggregate, may include official, semi-official...</td>\n",
       "    </tr>\n",
       "  </tbody>\n",
       "</table>\n",
       "</div>"
      ],
      "text/plain": [
       "  Domain Code                        Domain  Area Code    Area  Element Code  \\\n",
       "0          TP  Crops and livestock products         21  Brazil          5910   \n",
       "1          TP  Crops and livestock products         21  Brazil          5910   \n",
       "2          TP  Crops and livestock products         21  Brazil          5910   \n",
       "3          TP  Crops and livestock products         21  Brazil          5910   \n",
       "4          TP  Crops and livestock products         21  Brazil          5910   \n",
       "\n",
       "           Element  Item Code        Item  Year Code  Year    Unit    Value  \\\n",
       "0  Export Quantity       2077  Total Meat       1995  1995  tonnes   682506   \n",
       "1  Export Quantity       2077  Total Meat       1996  1996  tonnes   846177   \n",
       "2  Export Quantity       2077  Total Meat       1997  1997  tonnes   679643   \n",
       "3  Export Quantity       2077  Total Meat       1998  1998  tonnes  1003407   \n",
       "4  Export Quantity       2077  Total Meat       1999  1999  tonnes  1314947   \n",
       "\n",
       "  Flag                                   Flag Description  \n",
       "0    A  Aggregate, may include official, semi-official...  \n",
       "1    A  Aggregate, may include official, semi-official...  \n",
       "2    A  Aggregate, may include official, semi-official...  \n",
       "3    A  Aggregate, may include official, semi-official...  \n",
       "4    A  Aggregate, may include official, semi-official...  "
      ]
     },
     "execution_count": 18,
     "metadata": {},
     "output_type": "execute_result"
    }
   ],
   "source": [
    "# Trade: Livestock Products (Import/Export)\n",
    "# Set url parametrs\n",
    "fao_base_url = 'http://fenixservices.fao.org/faostat/api/v1/en/data/TP?'\n",
    "area_str = '21%2C351%2C100%2C185%2C202%2C231%2C5000%2C5706%2C5815'\n",
    "\n",
    "fao_area = '&area=' + area_str\n",
    "element_str = '2910'\n",
    "fao_element = '&element=' + element_str\n",
    "item_str = '2077'\n",
    "fao_item = '&item=' + item_str\n",
    "\n",
    "\n",
    "# finalize fao url\n",
    "tr_fao_url = fao_base_url + fao_area + fao_area_cs + fao_element + fao_item  + fao_item_cs + fao_year + fao_tail\n",
    "\n",
    "# Request Trade: Livestock Products Data from FOA\n",
    "response = requests.get(tr_fao_url)\n",
    "decoded_content = response.content.decode('ISO-8859-1')\n",
    "# Store CSV to DataFrame\n",
    "fao_tr_export_df = pd.read_csv(io.BytesIO(response.content), encoding='ISO-8859-1')\n",
    "fao_tr_export_df.head()"
   ]
  },
  {
   "cell_type": "code",
   "execution_count": 19,
   "metadata": {},
   "outputs": [],
   "source": [
    "fao_tr_import_df[['Area', 'Value']]\n",
    "area_group_df = fao_tr_export_df.groupby(['Area'])\n",
    "BRICS_Sum = area_group_df.sum()['Value']\n",
    "Remaining_List_Sum = area_group_df.sum()['Value']"
   ]
  },
  {
   "cell_type": "code",
   "execution_count": 20,
   "metadata": {},
   "outputs": [],
   "source": [
    "BRICS_List = ['Brazil', 'China', 'India', 'Russian Federation', 'South Africa' ]\n",
    "\n",
    "#BRICS_value.df = BRICS_List."
   ]
  },
  {
   "cell_type": "code",
   "execution_count": 21,
   "metadata": {},
   "outputs": [],
   "source": [
    "#BRICS_Sum[BRICS_List]\n",
    "BRICS_Sum = BRICS_Sum[BRICS_List]\n",
    "BRICS_Sum = pd.Series([BRICS_Sum.sum()], index=['BRICS'])"
   ]
  },
  {
   "cell_type": "code",
   "execution_count": 22,
   "metadata": {},
   "outputs": [
    {
     "name": "stdout",
     "output_type": "stream",
     "text": [
      "Area\n",
      "European Union                       306480006\n",
      "Low Income Food Deficit Countries     16279602\n",
      "United States of America             118372375\n",
      "Name: Value, dtype: int64\n"
     ]
    }
   ],
   "source": [
    "Remaining_List = ['European Union', 'Low Income Food Deficit Countries', 'United States of America']\n",
    "World = Remaining_List_Sum['World']\n",
    "Remaining_List_Sum = Remaining_List_Sum[(Remaining_List)]\n",
    "print (Remaining_List_Sum)"
   ]
  },
  {
   "cell_type": "code",
   "execution_count": 23,
   "metadata": {},
   "outputs": [],
   "source": [
    "Output_df = pd.DataFrame(pd.concat([Remaining_List_Sum, BRICS_Sum]))"
   ]
  },
  {
   "cell_type": "code",
   "execution_count": 24,
   "metadata": {},
   "outputs": [
    {
     "data": {
      "text/plain": [
       "European Union                       306480006\n",
       "Low Income Food Deficit Countries     16279602\n",
       "United States of America             118372375\n",
       "BRICS                                144186550\n",
       "dtype: int64"
      ]
     },
     "execution_count": 24,
     "metadata": {},
     "output_type": "execute_result"
    }
   ],
   "source": [
    "#print (Remaining_List_Sum, BRICS_Sum)\n",
    "pd.concat([Remaining_List_Sum, BRICS_Sum])"
   ]
  },
  {
   "cell_type": "code",
   "execution_count": 25,
   "metadata": {},
   "outputs": [],
   "source": [
    "Output_df = pd.DataFrame(pd.concat([Remaining_List_Sum, BRICS_Sum]))"
   ]
  },
  {
   "cell_type": "code",
   "execution_count": 26,
   "metadata": {},
   "outputs": [],
   "source": [
    "Output_df.columns = ['Quantity']"
   ]
  },
  {
   "cell_type": "code",
   "execution_count": 27,
   "metadata": {},
   "outputs": [
    {
     "data": {
      "text/html": [
       "<div>\n",
       "<style scoped>\n",
       "    .dataframe tbody tr th:only-of-type {\n",
       "        vertical-align: middle;\n",
       "    }\n",
       "\n",
       "    .dataframe tbody tr th {\n",
       "        vertical-align: top;\n",
       "    }\n",
       "\n",
       "    .dataframe thead th {\n",
       "        text-align: right;\n",
       "    }\n",
       "</style>\n",
       "<table border=\"1\" class=\"dataframe\">\n",
       "  <thead>\n",
       "    <tr style=\"text-align: right;\">\n",
       "      <th></th>\n",
       "      <th>Quantity</th>\n",
       "    </tr>\n",
       "  </thead>\n",
       "  <tbody>\n",
       "    <tr>\n",
       "      <th>European Union</th>\n",
       "      <td>306480006</td>\n",
       "    </tr>\n",
       "    <tr>\n",
       "      <th>Low Income Food Deficit Countries</th>\n",
       "      <td>16279602</td>\n",
       "    </tr>\n",
       "    <tr>\n",
       "      <th>United States of America</th>\n",
       "      <td>118372375</td>\n",
       "    </tr>\n",
       "    <tr>\n",
       "      <th>BRICS</th>\n",
       "      <td>144186550</td>\n",
       "    </tr>\n",
       "  </tbody>\n",
       "</table>\n",
       "</div>"
      ],
      "text/plain": [
       "                                    Quantity\n",
       "European Union                     306480006\n",
       "Low Income Food Deficit Countries   16279602\n",
       "United States of America           118372375\n",
       "BRICS                              144186550"
      ]
     },
     "execution_count": 27,
     "metadata": {},
     "output_type": "execute_result"
    }
   ],
   "source": [
    "Output_df"
   ]
  },
  {
   "cell_type": "code",
   "execution_count": 28,
   "metadata": {},
   "outputs": [],
   "source": [
    "Output_df = Output_df.reset_index()"
   ]
  },
  {
   "cell_type": "code",
   "execution_count": 29,
   "metadata": {},
   "outputs": [],
   "source": [
    "Output_df[\"%\"] = Output_df ['Quantity']/World\n",
    "Output_df = Output_df.reset_index()\n",
    "x_axis = Output_df[\"index\"]\n",
    "y_axis = Output_df[\"Quantity\"]/1000\n",
    "World = World / 1000\n",
    "\n",
    "export_results = y_axis"
   ]
  },
  {
   "cell_type": "code",
   "execution_count": 58,
   "metadata": {},
   "outputs": [
    {
     "data": {
      "image/png": "[encoded data removed]",
      "text/plain": [
       "<Figure size 432x288 with 1 Axes>"
      ]
     },
     "metadata": {
      "needs_background": "light"
     },
     "output_type": "display_data"
    }
   ],
   "source": [
    "ax = plt.bar(x_axis,y_axis, color='r', alpha=0.5, align=\"center\")\n",
    "y_axis_world = [World,World,World,World]\n",
    "plt.bar(x_axis,(y_axis_world-y_axis), color='grey', alpha=0.5, align=\"center\", bottom=y_axis)\n",
    "plt.xticks(rotation='vertical')\n",
    "\n",
    "rects = ax.patches\n",
    "for rect in rects:\n",
    "    y_value = rect.get_height()\n",
    "    x_value = rect.get_x() + rect.get_width() / 2\n",
    "    percentY = str(int(y_value/World*100)) + '%'\n",
    "    plt.text(x_value-0.1, y_value, percentY, color='w')\n",
    "\n",
    "plt.xticks([0.175,1.175,2.175, 3.175],Output_df[\"index\"],rotation='vertical')\n",
    "plt.yticks([0, 100000,200000,300000,400000,500000,600000,700000],['0','100M', '200M', '300M', '400M', '500M', '600M', '700M'])\n",
    "plt.title(\"Meat Export Comparison\")\n",
    "red_patch = mpatches.Patch(color='red', label='Export')\n",
    "grey_patch = mpatches.Patch(color='grey', label='World')\n",
    "plt.legend(handles=[red_patch,grey_patch])\n",
    "plt.savefig('Export_Bar_Graph.png')"
   ]
  },
  {
   "cell_type": "code",
   "execution_count": 57,
   "metadata": {},
   "outputs": [
    {
     "data": {
      "image/png": "[encoded data removed]",
      "text/plain": [
       "<Figure size 432x288 with 1 Axes>"
      ]
     },
     "metadata": {
      "needs_background": "dark"
     },
     "output_type": "display_data"
    }
   ],
   "source": [
    "#Merge Export & Import\n",
    "x_axis = np.arange(4)  # the x locations for the groups\n",
    "width = 0.35       # the width of the bars\n",
    "fig, ax = plt.subplots()\n",
    "ax.bar(x_axis,export_results, width, edgecolor = 'black', color='red', alpha=0.5, align=\"center\")\n",
    "ax.bar(x_axis + width,import_results, width, color='darkgreen', edgecolor = 'black', alpha=0.5, align=\"center\")\n",
    "rects = ax.patches\n",
    "\n",
    "for rect in rects:\n",
    "    y_value = rect.get_height()\n",
    "    x_value = rect.get_x() + rect.get_width() / 2\n",
    "    percentY = str(int(y_value/World*100)) + '%'\n",
    "    plt.text(x_value-0.1, y_value, percentY, color='w')\n",
    "\n",
    "y_axis_world = [World,World,World,World]\n",
    "rects1 = ax.bar(x_axis,(y_axis_world-export_results), width, color='grey', alpha=0.5, align=\"center\", bottom=export_results)\n",
    "rects2 = ax.bar(x_axis + width,(y_axis_world-import_results), width, color='grey', alpha=0.5, align=\"center\", bottom=import_results)\n",
    "\n",
    "#plt.xticks([0.175,1.175,2.175, 3.175],Output_df[\"index\"],rotation='vertical')\n",
    "plt.xticks([0.175,1.175,2.175, 3.175],['EU', 'LIFDC', 'US', 'BRICS'],rotation='vertical', color = 'w')\n",
    "plt.yticks([0, 100000,200000,300000,400000,500000,600000,700000],['0','100M', '200M', '300M', '400M', '500M', '600M', '700M'], color = 'w')\n",
    "plt.title(\"MEAT IMPORT & EXPORT COMPARISON\", fontsize=16, color = 'w')\n",
    "plt.xlabel('COUNTRY GROUPING', fontsize=12, color = 'w')\n",
    "plt.ylabel('QUANTITY', fontsize=12, color = 'w')\n",
    "red_patch = mpatches.Patch(color='red', label='Export')\n",
    "blue_patch = mpatches.Patch(color='darkgreen', label='Import')\n",
    "grey_patch = mpatches.Patch(color='grey', label='World')\n",
    "plt.legend(handles=[red_patch,blue_patch,grey_patch])\n",
    "plt.savefig('Overall_Bar_Graph.png')"
   ]
  },
  {
   "cell_type": "code",
   "execution_count": null,
   "metadata": {},
   "outputs": [],
   "source": []
  }
 ],
 "metadata": {
  "kernelspec": {
   "display_name": "Python 3",
   "language": "python",
   "name": "python3"
  },
  "language_info": {
   "codemirror_mode": {
    "name": "ipython",
    "version": 3
   },
   "file_extension": ".py",
   "mimetype": "text/x-python",
   "name": "python",
   "nbconvert_exporter": "python",
   "pygments_lexer": "ipython3",
   "version": "3.7.1"
  }
 },
 "nbformat": 4,
 "nbformat_minor": 2
}
